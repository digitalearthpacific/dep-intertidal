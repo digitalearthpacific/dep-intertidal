{
 "cells": [
  {
   "cell_type": "markdown",
   "id": "13bbf676-fbce-49e7-9843-a03ce4424428",
   "metadata": {},
   "source": [
    "# Generating DEA Intertidal Elevation\n",
    "\n",
    "This notebook demonstrates how to generate DEA Intertidal Elevation outputs on\n",
    "a combination of Landsat and Sentinel-2 data.\n",
    "\n",
    "**EDIT: modified from the original, here: https://github.com/GeoscienceAustralia/dea-intertidal/blob/rbt/notebooks/Intertidal_elevation_stac.ipynb**"
   ]
  },
  {
   "cell_type": "markdown",
   "id": "306a1f55-3f9d-4996-be95-e11e5a74a86b",
   "metadata": {},
   "source": [
    "## Getting started\n",
    "\n",
    "Install additional packages, which may not be in the environment you have ready.\n",
    "\n",
    "Make sure the kernel you're using is the custom one we made at the start of the workshop."
   ]
  },
  {
   "cell_type": "markdown",
   "id": "4244cc06-b5e7-4120-8514-adf35082cb2c",
   "metadata": {},
   "source": [
    "### Load packages"
   ]
  },
  {
   "cell_type": "code",
   "execution_count": 1,
   "id": "67df5808-fa99-4c4c-860e-b02001896270",
   "metadata": {
    "editable": true,
    "slideshow": {
     "slide_type": ""
    },
    "tags": []
   },
   "outputs": [],
   "source": [
    "%load_ext autoreload\n",
    "%autoreload 2\n",
    "\n",
    "import os\n",
    "import xarray as xr\n",
    "import matplotlib.pyplot as plt\n",
    "from ipyleaflet import basemaps, basemap_to_tiles\n",
    "\n",
    "import odc.geo.xr  # noqa: F401\n",
    "#from odc.ui import select_on_a_map\n",
    "from dask.distributed import Client as DaskClient\n",
    "\n",
    "from intertidal.io import prepare_for_export\n",
    "from intertidal.elevation import elevation\n",
    "from intertidal.exposure import exposure\n",
    "\n",
    "from odc.stac import load, configure_s3_access\n",
    "from pystac_client import Client\n",
    "\n",
    "import rasterio.features\n",
    "\n",
    "import geopandas as gpd\n",
    "import dep_tools.grids as grid\n",
    "\n",
    "from dea_tools.dask import create_local_dask_cluster"
   ]
  },
  {
   "cell_type": "markdown",
   "id": "a603829c",
   "metadata": {},
   "source": [
    "### Configuration\n",
    "\n",
    "Set up some study parameters. You don't need to change this, but if you want to run over a longer time\n",
    "period, or iwth a different tide model, you can set that up here."
   ]
  },
  {
   "cell_type": "code",
   "execution_count": 2,
   "id": "b05b7373",
   "metadata": {},
   "outputs": [],
   "source": [
    "#os.environ['REQUESTS_CA_BUNDLE'] = ''\n",
    "#os.environ['PYTHONHTTPSVERIFY'] = '0'\n",
    "#import ssl\n",
    "#ssl._create_default_https_context = ssl._create_unverified_context\n",
    "\n",
    "# Configure study parameters\n",
    "start_date = \"2023\"  # Start date for analysis\n",
    "end_date = \"2024\"  # End date for analysis\n",
    "year = \"2024\"\n",
    "cloud_cover = 50\n",
    "\n",
    "# Tide data\n",
    "tide_model = \"FES2022\"  # Tide model to use in analysis\n",
    "#home = os.path.expanduser(\"~\")  # Home directory\n",
    "tide_model_dir = \"tidal_models\"  # Directory containing tide model files"
   ]
  },
  {
   "cell_type": "markdown",
   "id": "923b8f53",
   "metadata": {},
   "source": [
    "### Study site selection\n",
    "\n",
    "Pick a region to run the model over. There's a section of the Vietnam coast that works well to the east of Nam Dinh."
   ]
  },
  {
   "cell_type": "code",
   "execution_count": null,
   "id": "b86a8251",
   "metadata": {},
   "outputs": [],
   "source": [
    "grid_p = grid.gadm()\n",
    "country_code = \"NRU\"\n",
    "aoi = grid_p[grid_p[\"GID_0\"] == country_code]\n",
    "aoi = aoi['geometry'].buffer(0.002) #tweak 0.003\n",
    "\n",
    "#coral_coast\n",
    "#aoi = gpd.read_file(\"coral_coast.geojson\")\n",
    "\n",
    "bbox = rasterio.features.bounds(aoi)\n",
    "#aoi.explore()"
   ]
  },
  {
   "cell_type": "markdown",
   "id": "cc688525",
   "metadata": {},
   "source": [
    "## Find and load data\n",
    "\n",
    "First we use the Element-84 STAC API to search for Landsat data from the USGS and\n",
    "then we use the same API to search for Sentinel-2 data from the AWS open data program.\n",
    "\n",
    "Once we have STAC Items, we load this data and mask clouds out, before calculating\n",
    "the NDWI index, which is used to compute a wet/dry threshold."
   ]
  },
  {
   "cell_type": "code",
   "execution_count": null,
   "id": "935057ff-f0b2-4d29-b137-2faf8655463c",
   "metadata": {
    "tags": []
   },
   "outputs": [],
   "source": [
    "# Configure S3 access. Cloud defaults is an optimisation, while requester pays is required for Landsat\n",
    "configure_s3_access(cloud_defaults=True, requester_pays=True)\n",
    "\n",
    "# We're using the Element-84 STAC API, as it provides access to both Landsat and Sentinel-2 records\n",
    "catalog = \"https://earth-search.aws.element84.com/v1\"\n",
    "#datetime = f\"{start_date}/{end_date}\"\n",
    "datetime = year\n",
    "landsat_collection = \"landsat-c2-l2\"\n",
    "sentinel2_collection = \"sentinel-2-l2a\"\n",
    "\n",
    "# Connect to client\n",
    "client = Client.open(catalog)\n",
    "\n",
    "# Search for Landsat items\n",
    "landsat_items = client.search(\n",
    "    collections=[landsat_collection],\n",
    "    bbox=bbox,\n",
    "    datetime=datetime,\n",
    "    query={\"eo:cloud_cover\": {\"lt\": cloud_cover}},\n",
    ").item_collection()\n",
    "\n",
    "# Search for Sentinel-2 items\n",
    "sentinel2_items = client.search(\n",
    "    collections=[sentinel2_collection],\n",
    "    bbox=bbox,\n",
    "    datetime=datetime,\n",
    "    query={\"eo:cloud_cover\": {\"lt\": cloud_cover}},\n",
    ").item_collection()\n",
    "\n",
    "# Check how many items were returned\n",
    "print(f\"Found {len(landsat_items)} Landsat items and {len(sentinel2_items)} Sentinel-2 items\")"
   ]
  },
  {
   "cell_type": "code",
   "execution_count": null,
   "id": "e062d5bc",
   "metadata": {},
   "outputs": [],
   "source": [
    "common_options = {\n",
    "    \"chunks\": {\"x\": 2048, \"y\": 2048},\n",
    "    \"groupby\": \"solar_day\",\n",
    "    \"resampling\": {\"qa_pixel\": \"nearest\", \"SCL\": \"nearest\", \"*\": \"cubic\"},\n",
    "    \"fail_on_error\": False,\n",
    "}\n",
    "\n",
    "# Load Landsat with ODC STAC\n",
    "landsat_data = load(\n",
    "    items=landsat_items,\n",
    "    bbox=bbox,\n",
    "    bands=[\"green\", \"nir08\", \"qa_pixel\"],\n",
    "    **common_options,\n",
    ")\n",
    "\n",
    "# Apply Landsat cloud mask\n",
    "# Bit flag mask for the QA_PIXEL band\n",
    "# We need Bit 3: high confidence cloud, bit 4: high confidence shadow,\n",
    "# which are the 4th and 5th bits from the right (0-indexed)\n",
    "bitflags = 0b00011000\n",
    "\n",
    "cloud_mask = (landsat_data.qa_pixel & bitflags) != 0\n",
    "landsat_data = landsat_data.where(~cloud_mask).drop_vars(\"qa_pixel\")\n",
    "\n",
    "sentinel2_data = load(\n",
    "    items=sentinel2_items,\n",
    "    like=landsat_data,\n",
    "    bands=[\"green\", \"nir\", \"scl\"],\n",
    "    **common_options,\n",
    ")\n",
    "\n",
    "# Apply Sentinel-2 cloud mask\n",
    "# 1: defective, 3: shadow, 9: high confidence cloud\n",
    "mask_flags = [1, 3, 9]\n",
    "\n",
    "cloud_mask = ~sentinel2_data.scl.isin(mask_flags)\n",
    "sentinel2_data = sentinel2_data.where(cloud_mask).drop_vars(\"scl\")\n",
    "\n",
    "# Apply scaling\n",
    "ds_ls = (landsat_data.where(landsat_data.green != 0) * 0.0000275 + -0.2).clip(0, 1)\n",
    "ds_s2 = (sentinel2_data.where(sentinel2_data.green != 0) * 0.0001).clip(0, 1)\n",
    "\n",
    "# Convert to NDWI\n",
    "ndwi_ls = (ds_ls.green - ds_ls.nir08) / (ds_ls.green + ds_ls.nir08)\n",
    "ndwi_s2 = (ds_s2.green - ds_s2.nir) / (ds_s2.green + ds_s2.nir)\n",
    "\n",
    "# Combine into a single dataset\n",
    "all_data = (\n",
    "    xr.concat([ndwi_ls, ndwi_s2], dim=\"time\").sortby(\"time\").to_dataset(name=\"ndwi\")\n",
    ")\n",
    "\n",
    "all_data"
   ]
  },
  {
   "cell_type": "markdown",
   "id": "54c892b8-42d3-4930-ad97-e0e214535fc5",
   "metadata": {},
   "source": [
    "## Run the analysis\n",
    "\n",
    "Up to this point, we've been \"lazy loading\" our data, using Dask to structure\n",
    "our data processing plan. The below cells actually load data into memory. and\n",
    "undertake processing.\n",
    "\n",
    "First we need to set up a local Dask cluster, and configure S3 access, and then\n",
    "we can run the model"
   ]
  },
  {
   "cell_type": "code",
   "execution_count": null,
   "id": "a65a0469",
   "metadata": {
    "editable": true,
    "slideshow": {
     "slide_type": ""
    },
    "tags": []
   },
   "outputs": [],
   "source": [
    "# Createa a dask Client\n",
    "#dask_client = DaskClient(\n",
    "#    n_workers=4, threads_per_worker=16, memory_limit=\"32GB\"\n",
    "#)\n",
    "client = create_local_dask_cluster(return_client=True)\n",
    "# Set cloud access defaults\n",
    "#configure_s3_access(cloud_defaults=True, aws_unsigned=True)\n",
    "#odc.stac.configure_rio(cloud_defaults=True, aws={\"aws_unsigned\": True})\n"
   ]
  },
  {
   "cell_type": "markdown",
   "id": "c34949eb-96f1-4844-ad6e-aeb71399e9f5",
   "metadata": {},
   "source": [
    "### Generate Intertidal elevation"
   ]
  },
  {
   "cell_type": "code",
   "execution_count": null,
   "id": "32807d11-3e08-4a87-9e64-e2460ba0ed6c",
   "metadata": {
    "tags": []
   },
   "outputs": [],
   "source": [
    "# Load all the data for our analysis\n",
    "loaded = all_data.compute()"
   ]
  },
  {
   "cell_type": "code",
   "execution_count": null,
   "id": "5e352c10",
   "metadata": {
    "editable": true,
    "slideshow": {
     "slide_type": ""
    },
    "tags": []
   },
   "outputs": [],
   "source": [
    "# Model elevation for each pixel\n",
    "ds, _ = elevation(\n",
    "    loaded,\n",
    "    tide_model=tide_model,\n",
    "    tide_model_dir=tide_model_dir,\n",
    ")"
   ]
  },
  {
   "cell_type": "markdown",
   "id": "7b6d6c7e-a659-4acc-88d3-39e2bb4fc3d6",
   "metadata": {},
   "source": [
    "### Plot outputs"
   ]
  },
  {
   "cell_type": "code",
   "execution_count": null,
   "id": "bace94ca-be78-4339-b01d-32f6162581c8",
   "metadata": {
    "tags": []
   },
   "outputs": [],
   "source": [
    "fix, axes = plt.subplots(1, 4, figsize=(12, 4))\n",
    "ds.elevation.plot.imshow(cmap=\"viridis\", ax=axes[0])\n",
    "ds.elevation_uncertainty.plot.imshow(cmap=\"inferno\", ax=axes[1])\n",
    "ds.qa_ndwi_corr.plot.imshow(cmap=\"RdBu\", vmin=-0.7, vmax=0.7, ax=axes[2])\n",
    "ds.qa_ndwi_freq.plot.imshow(cmap=\"Blues\", vmin=0, vmax=1, ax=axes[3])"
   ]
  },
  {
   "cell_type": "code",
   "execution_count": null,
   "id": "f9ccb4e3-4b04-499b-b9ff-1649c2d31c89",
   "metadata": {
    "tags": []
   },
   "outputs": [],
   "source": [
    "#coastal buffer\n",
    "#buffer = gpd.read_file(\"../grid/buffered_coastline_grid.gpkg\")\n",
    "#ds = ds.rio.clip(buffer.geometry.values, buffer.crs, drop=False, invert=False)\n",
    "#aoi buffer\n",
    "ds = ds.rio.clip(aoi.geometry.values, aoi.crs, drop=False, invert=False)\n",
    "\n",
    "ds.elevation.odc.explore(\n",
    "    robust=True,\n",
    "    tiles=basemaps.Esri.WorldImagery\n",
    ")"
   ]
  },
  {
   "cell_type": "code",
   "execution_count": null,
   "id": "f042e803-52da-4bf8-b355-1e2039dc4258",
   "metadata": {},
   "outputs": [],
   "source": [
    "# Exposure variables\n",
    "modelled_freq = \"3h\"  # Frequency to run tidal model e.g '30min' or '1h'\n",
    "filters = None  # Exposure filters eg None, ['Dry', 'Neap_low']\n",
    "filters_combined = None  # Must be a list of tuples containing one temporal and spatial filter each, eg None or [('Einter','Lowtide')]\n",
    "\n",
    "exposure_filters, modelledtides_ds = exposure(\n",
    "    dem=ds.elevation,\n",
    "    start_date=start_date,\n",
    "    end_date=end_date,\n",
    "    modelled_freq=modelled_freq,\n",
    "    tide_model=tide_model,\n",
    "    tide_model_dir=tide_model_dir,\n",
    "    filters=filters,\n",
    "    filters_combined=filters_combined,\n",
    ")\n",
    "\n",
    "# Write each exposure output as new variables in the main dataset\n",
    "for x in exposure_filters.data_vars:\n",
    "    ds[f\"exposure_{x}\"] = exposure_filters[x]"
   ]
  },
  {
   "cell_type": "code",
   "execution_count": null,
   "id": "2a11cbf9-536c-49e8-80b8-7ec622c84bab",
   "metadata": {},
   "outputs": [],
   "source": [
    "ds"
   ]
  },
  {
   "cell_type": "code",
   "execution_count": null,
   "id": "bfbf558f-80ac-41b9-9704-1a4790567704",
   "metadata": {},
   "outputs": [],
   "source": [
    "ds.exposure_unfiltered.odc.explore(\n",
    "    robust=True,\n",
    "    tiles=basemaps.Esri.WorldImagery,\n",
    "    cmap=\"magma\"\n",
    ")"
   ]
  },
  {
   "cell_type": "code",
   "execution_count": null,
   "id": "a5e751e5-4df7-4115-b611-620d299d079e",
   "metadata": {},
   "outputs": [],
   "source": [
    "ds.exposure_unfiltered.plot()"
   ]
  },
  {
   "cell_type": "code",
   "execution_count": null,
   "id": "f9667a89-f027-4a31-9727-2425a136aeae",
   "metadata": {},
   "outputs": [],
   "source": [
    "ds.elevation.plot()"
   ]
  },
  {
   "cell_type": "markdown",
   "id": "9fcd13e6-db3e-409c-905d-d9f6a9733348",
   "metadata": {
    "editable": true,
    "slideshow": {
     "slide_type": ""
    },
    "tags": []
   },
   "source": [
    "### Export to GeoTIFF files"
   ]
  },
  {
   "cell_type": "code",
   "execution_count": null,
   "id": "eda5dd8a-353e-4aad-80ad-a3bfc9518588",
   "metadata": {},
   "outputs": [],
   "source": [
    "ds = ds.drop_vars(\"qa_count_clear\")\n",
    "ds = ds.drop_vars(\"qa_ndwi_corr\")\n",
    "ds = ds.drop_vars(\"qa_ndwi_freq\")\n",
    "ds = ds.drop_vars(\"elevation_uncertainty\")\n",
    "ds = ds.rename_vars({\"exposure_unfiltered\": \"exposure\"})\n",
    "ds"
   ]
  },
  {
   "cell_type": "code",
   "execution_count": 17,
   "id": "9296e76c-12b6-44bb-829b-871f955bbc69",
   "metadata": {
    "tags": []
   },
   "outputs": [],
   "source": [
    "# Create output folder if it doesn't exist\n",
    "#output_dir = f\"data/interim/{country_code}/{start_date}-{end_date}\"\n",
    "output_dir = f\"data/{country_code}/{year}\"\n",
    "os.makedirs(output_dir, exist_ok=True)\n",
    "\n",
    "# Prepare data for export\n",
    "# ds[\"qa_ndwi_freq\"] *= 100  # Convert frequency to %\n",
    "\n",
    "# Prepare for export by correctly setting nodata and dtypes\n",
    "ds_prepared = prepare_for_export(ds, output_location=output_dir)"
   ]
  },
  {
   "cell_type": "markdown",
   "id": "cd33dfdc-e687-4006-8be2-94f29c6948a8",
   "metadata": {
    "tags": []
   },
   "source": [
    "### Close Dask client"
   ]
  },
  {
   "cell_type": "code",
   "execution_count": 18,
   "id": "f7c1f4b8-2941-42c5-8ccf-1b65c8a79acd",
   "metadata": {
    "tags": []
   },
   "outputs": [],
   "source": [
    "client.close()"
   ]
  }
 ],
 "metadata": {
  "kernelspec": {
   "display_name": "Python 3 (ipykernel)",
   "language": "python",
   "name": "python3"
  },
  "language_info": {
   "codemirror_mode": {
    "name": "ipython",
    "version": 3
   },
   "file_extension": ".py",
   "mimetype": "text/x-python",
   "name": "python",
   "nbconvert_exporter": "python",
   "pygments_lexer": "ipython3",
   "version": "3.11.11"
  },
  "widgets": {
   "application/vnd.jupyter.widget-state+json": {
    "state": {
     "2251b59bd17048ce9c8e62138746bb9c": {
      "model_module": "jupyter-leaflet",
      "model_module_version": "2.0.0",
      "model_name": "LeafletDrawControlModel",
      "state": {
       "_view_name": "ErrorWidgetView",
       "data": [
        {
         "geometry": {
          "coordinates": [
           [
            [
             126.187592,
             37.443586
            ],
            [
             126.187592,
             37.627624
            ],
            [
             126.511688,
             37.627624
            ],
            [
             126.511688,
             37.443586
            ],
            [
             126.187592,
             37.443586
            ]
           ]
          ],
          "type": "Polygon"
         },
         "properties": {
          "style": {
           "clickable": true,
           "color": "#000000",
           "fill": true,
           "fillColor": "#fca45d",
           "fillOpacity": 0.1,
           "opacity": 0.5,
           "stroke": true,
           "weight": 4
          }
         },
         "type": "Feature"
        }
       ],
       "error": {},
       "msg": "Failed to load model class 'LeafletDrawControlModel' from module 'jupyter-leaflet'",
       "options": [
        "position"
       ],
       "polygon": {
        "shapeOptions": {
         "color": "#000000",
         "editing": {
          "color": "#000000",
          "fillColor": "#fca45d",
          "fillOpacity": 0.1
         },
         "fillColor": "#fca45d",
         "fillOpacity": 0.1,
         "original": {
          "color": "#000000",
          "fillColor": "#fca45d",
          "fillOpacity": 0.1
         }
        }
       },
       "polyline": {},
       "rectangle": {
        "metric": [
         "km",
         "m"
        ],
        "shapeOptions": {
         "color": "#000000",
         "fillColor": "#fca45d",
         "fillOpacity": 0.1
        }
       }
      }
     },
     "2b71d33ef71d403086e7d15b360ede9b": {
      "model_module": "jupyter-leaflet",
      "model_module_version": "2.0.0",
      "model_name": "LeafletWidgetControlModel",
      "state": {
       "_model_module": "jupyter-leaflet",
       "_view_name": "ErrorWidgetView",
       "error": {},
       "msg": "Failed to load model class 'LeafletWidgetControlModel' from module 'jupyter-leaflet'",
       "options": [
        "position",
        "transparent_bg"
       ],
       "position": "bottomleft",
       "widget": "IPY_MODEL_2cf723a768b9480da0aff79971caed85"
      }
     },
     "319c1f9ec2f44b5393165f445bc8db7e": {
      "model_module": "jupyter-leaflet",
      "model_module_version": "2.0.0",
      "model_name": "LeafletMapStyleModel",
      "state": {
       "_view_name": "ErrorWidgetView",
       "cursor": "move",
       "error": {},
       "msg": "Failed to load model class 'LeafletMapStyleModel' from module 'jupyter-leaflet'"
      }
     },
     "412654a376b146529029c3bcb7576161": {
      "model_module": "jupyter-leaflet",
      "model_module_version": "2.0.0",
      "model_name": "LeafletFullScreenControlModel",
      "state": {
       "_view_name": "ErrorWidgetView",
       "error": {},
       "msg": "Failed to load model class 'LeafletFullScreenControlModel' from module 'jupyter-leaflet'",
       "options": [
        "position"
       ]
      }
     },
     "43d949aa4c494326a2aff82590d0d578": {
      "model_module": "jupyter-leaflet",
      "model_module_version": "2.0.0",
      "model_name": "LeafletMapModel",
      "state": {
       "_view_name": "ErrorWidgetView",
       "bottom": 101511,
       "center": [
        37.57179370689751,
        126.58241271972658
       ],
       "controls": [
        "IPY_MODEL_5d874572f3cd4086ac9414c0b10d905b",
        "IPY_MODEL_c09bc7699fa84aca9889f00e459b2048",
        "IPY_MODEL_412654a376b146529029c3bcb7576161"
       ],
       "default_style": "IPY_MODEL_694085ea29f6466a8ce6e81f5a8e0942",
       "dragging_style": "IPY_MODEL_319c1f9ec2f44b5393165f445bc8db7e",
       "east": 126.58309936523439,
       "error": {},
       "fullscreen": false,
       "interpolation": "bilinear",
       "layers": [
        "IPY_MODEL_67cc257713fb47b687ef01cf7203cf47"
       ],
       "layout": "IPY_MODEL_496ca89cea7742039292848b7574de1a",
       "left": 223247,
       "modisdate": "2024-05-05",
       "msg": "Failed to load model class 'LeafletMapModel' from module 'jupyter-leaflet'",
       "north": 37.57179370689751,
       "options": [
        "bounce_at_zoom_limits",
        "box_zoom",
        "center",
        "close_popup_on_click",
        "double_click_zoom",
        "dragging",
        "fullscreen",
        "inertia",
        "inertia_deceleration",
        "inertia_max_speed",
        "interpolation",
        "keyboard",
        "keyboard_pan_offset",
        "keyboard_zoom_offset",
        "max_zoom",
        "min_zoom",
        "prefer_canvas",
        "scroll_wheel_zoom",
        "tap",
        "tap_tolerance",
        "touch_zoom",
        "world_copy_jump",
        "zoom",
        "zoom_animation_threshold",
        "zoom_delta",
        "zoom_snap"
       ],
       "prefer_canvas": false,
       "right": 223247,
       "scroll_wheel_zoom": true,
       "south": 37.57179370689751,
       "style": "IPY_MODEL_319c1f9ec2f44b5393165f445bc8db7e",
       "top": 101511,
       "west": 126.58309936523439,
       "window_url": "https://app.sandbox.dea.ga.gov.au/user/robbi.bishoptaylor@ga.gov.au/",
       "zoom": 10
      }
     },
     "5d874572f3cd4086ac9414c0b10d905b": {
      "model_module": "jupyter-leaflet",
      "model_module_version": "2.0.0",
      "model_name": "LeafletZoomControlModel",
      "state": {
       "_view_name": "ErrorWidgetView",
       "error": {},
       "msg": "Failed to load model class 'LeafletZoomControlModel' from module 'jupyter-leaflet'",
       "options": [
        "position",
        "zoom_in_text",
        "zoom_in_title",
        "zoom_out_text",
        "zoom_out_title"
       ]
      }
     },
     "67cc257713fb47b687ef01cf7203cf47": {
      "model_module": "jupyter-leaflet",
      "model_module_version": "2.0.0",
      "model_name": "LeafletTileLayerModel",
      "state": {
       "_view_name": "ErrorWidgetView",
       "attribution": "Tiles &copy; Esri &mdash; Source: Esri, i-cubed, USDA, USGS, AEX, GeoEye, Getmapping, Aerogrid, IGN, IGP, UPR-EGP, and the GIS User Community",
       "error": {},
       "min_zoom": 1,
       "msg": "Failed to load model class 'LeafletTileLayerModel' from module 'jupyter-leaflet'",
       "name": "Esri.WorldImagery",
       "options": [
        "attribution",
        "bounds",
        "detect_retina",
        "max_native_zoom",
        "max_zoom",
        "min_native_zoom",
        "min_zoom",
        "no_wrap",
        "tile_size",
        "tms",
        "zoom_offset"
       ],
       "url": "https://server.arcgisonline.com/ArcGIS/rest/services/World_Imagery/MapServer/tile/{z}/{y}/{x}"
      }
     },
     "694085ea29f6466a8ce6e81f5a8e0942": {
      "model_module": "jupyter-leaflet",
      "model_module_version": "2.0.0",
      "model_name": "LeafletMapStyleModel",
      "state": {
       "_view_name": "ErrorWidgetView",
       "error": {},
       "msg": "Failed to load model class 'LeafletMapStyleModel' from module 'jupyter-leaflet'"
      }
     },
     "c09bc7699fa84aca9889f00e459b2048": {
      "model_module": "jupyter-leaflet",
      "model_module_version": "2.0.0",
      "model_name": "LeafletAttributionControlModel",
      "state": {
       "_view_name": "ErrorWidgetView",
       "error": {},
       "msg": "Failed to load model class 'LeafletAttributionControlModel' from module 'jupyter-leaflet'",
       "options": [
        "position",
        "prefix"
       ],
       "position": "bottomright",
       "prefix": "ipyleaflet"
      }
     },
     "d1ee7d473ead44a0b204ac1b0be77ae2": {
      "model_module": "jupyter-leaflet",
      "model_module_version": "2.0.0",
      "model_name": "LeafletWidgetControlModel",
      "state": {
       "_model_module": "jupyter-leaflet",
       "_view_name": "ErrorWidgetView",
       "error": {},
       "msg": "Failed to load model class 'LeafletWidgetControlModel' from module 'jupyter-leaflet'",
       "options": [
        "position",
        "transparent_bg"
       ],
       "position": "topright",
       "widget": "IPY_MODEL_aa74152de5c240559a74609ebc46faf8"
      }
     },
     "e2dd8be18fd34e70afb07a67eb0acb4f": {
      "model_module": "jupyter-leaflet",
      "model_module_version": "2.0.0",
      "model_name": "LeafletMapStyleModel",
      "state": {
       "_view_name": "ErrorWidgetView",
       "error": {},
       "msg": "Failed to load model class 'LeafletMapStyleModel' from module 'jupyter-leaflet'"
      }
     }
    },
    "version_major": 2,
    "version_minor": 0
   }
  }
 },
 "nbformat": 4,
 "nbformat_minor": 5
}
